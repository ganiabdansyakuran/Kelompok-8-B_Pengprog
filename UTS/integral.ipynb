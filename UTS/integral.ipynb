{
 "cells": [
  {
   "cell_type": "markdown",
   "id": "5c9a84ed",
   "metadata": {},
   "source": [
    "# Integral"
   ]
  },
  {
   "cell_type": "markdown",
   "id": "bddc6a16",
   "metadata": {},
   "source": [
    "## Proses Integrasi\n",
    "\n",
    "Proses integrasi membalikkan proses diferensiasi.  \n",
    "Dalam diferensiasi, jika  \n",
    "$$\n",
    "f(x) = 2x^2\n",
    "$$  \n",
    "maka  \n",
    "$$\n",
    "f'(x) = 4x.\n",
    "$$  \n",
    "Jadi integral dari \\(4x\\) adalah \\(2x^2\\), yaitu integrasi adalah proses kembali dari \\(f'(x)\\) ke \\(f(x)\\). Dengan pertimbangan yang sama, integral dari \\(2t\\) adalah \\(t^2\\).\n",
    "\n",
    "Integrasi adalah proses penjumlahan atau penggabungan suku–suku, dan simbol\n",
    "\n",
    "$$\n",
    "\\int\n",
    "$$\n",
    "\n",
    "digunakan untuk menggantikan kata “integral dari”. Oleh karena itu, dari contoh di atas:\n",
    "\n",
    "$$\n",
    "\\int 4x \\, dx = 2x^2\n",
    "$$\n",
    "\n",
    "dan\n",
    "\n",
    "$$\n",
    "\\int 2t \\, dt = t^2.\n",
    "$$\n",
    "\n",
    "Dalam diferensiasi, koefisien diferensial $$\\frac{dy}{dx}$$ menunjukkan fungsi \\(y\\) di-diferensiasi-kan terhadap \\(x\\). Dalam integrasi, variabel integrasi ditunjukkan dengan menambahkan \\(d\\) (variabel) setelah fungsi yang akan diintegrasi.\n",
    "\n",
    "- $$\\int 4x \\, dx$$ \n",
    "berarti “integral dari \\(4x\\) terhadap \\(x\\)”.  \n",
    "- $$\\int 2t \\, dt$$ \n",
    "berarti “integral dari \\(2t\\) terhadap \\(t\\)”.\n",
    "\n",
    "Karena koefisien diferensial dari \\(2x^2\\) adalah \\(4x\\), maka\n",
    "\n",
    "$$\n",
    "\\int 4x \\, dx = 2x^2.\n",
    "$$\n",
    "\n",
    "Namun, koefisien diferensial dari \\(2x^2 + 7\\) juga \\(4x\\), sehingga\n",
    "\n",
    "$$\n",
    "\\int 4x \\, dx\n",
    "$$\n",
    "\n",
    "bisa bernilai \\(2x^2 + 7\\). Untuk mengakomodasi adanya konstanta, setiap kali melakukan integrasi ditambahkan konstanta \\(c\\). Jadi secara umum:\n",
    "\n",
    "$$\n",
    "\\int 4x \\, dx = 2x^2 + c\n",
    "\\quad,\\quad\n",
    "\\int 2t \\, dt = t^2 + c\n",
    "$$\n",
    "\n",
    "di mana **c** disebut **konstanta integrasi**."
   ]
  },
  {
   "cell_type": "markdown",
   "id": "91793694",
   "metadata": {},
   "source": [
    "## Solusi Umum Integral dari Bentuk \\(a x^n\\)\n",
    "\n",
    "Solusi umum untuk integral\n",
    "\n",
    "$$\n",
    "\\int a\\,x^n\\,dx\n",
    "$$\n",
    "\n",
    "(dengan a dan n konstanta) adalah\n",
    "\n",
    "$$\n",
    "\\int a\\,x^n\\,dx = \\frac{a\\,x^{n+1}}{n+1} + c\n",
    "$$\n",
    "\n",
    "dengan pengecualian n = −1. Aturan ini berlaku untuk n berupa bilangan bulat (positif, negatif, atau nol) maupun pecahan.\n",
    "\n",
    "**Contoh:**\n",
    "\n",
    "1. \n",
    "$$\n",
    "\\int 3x^4 \\, dx = \\frac{3x^{4+1}}{4+1} + c = \\frac{3}{5}x^5 + c\n",
    "$$\n",
    "\n",
    "2. \n",
    "$$\n",
    "\\int \\frac{2}{x^2} \\, dx = \\int 2x^{-2} \\, dx = \\frac{2x^{-2+1}}{-2+1} + c = \\frac{2x^{-1}}{-1} + c = \\frac{-2}{x} + c\n",
    "$$\n",
    "\n",
    "3. \n",
    "$$\n",
    "\\int \\sqrt{x} \\, dx = \\int x^{\\frac{1}{2}} \\, dx = \\frac{x^{\\frac{1}{2}+1}}{\\frac{1}{2}+1} + c = \\frac{x^{\\frac{3}{2}}}{\\frac{3}{2}} + c = \\frac{2}{3}x^{\\frac{3}{2}} + c = \\frac{2}{3}\\sqrt{x^3} + c\n",
    "$$\n"
   ]
  },
  {
   "cell_type": "markdown",
   "id": "33fe4d0c",
   "metadata": {},
   "source": [
    "## Integral Baku\n",
    "\n",
    "Karena integrasi adalah kebalikan diferensiasi, berikut beberapa **integral baku**:\n",
    "\n",
    "| No.   | Integral                             | Hasil + c                               |\n",
    "|:-----:|:-------------------------------------|:----------------------------------------|\n",
    "| (i)   | $$\\int a\\,x^n\\,dx$$                  | $$\\tfrac{a\\,x^{n+1}}{n+1} + c$$ (n≠−1)  |\n",
    "| (ii)  | $$\\int \\cos(ax)\\,dx$$                | $$\\tfrac{1}{a}\\sin(ax) + c$$            |\n",
    "| (iii) | $$\\int \\sin(ax)\\,dx$$                | $$-\\tfrac{1}{a}\\cos(ax) + c$$           |\n",
    "| (iv)  | $$\\int \\sec^2(ax)\\,dx$$              | $$\\tfrac{1}{a}\\tan(ax) + c$$            |\n",
    "| (v)   | $$\\int \\csc^2(ax)\\,dx$$              | $$-\\tfrac{1}{a}\\cot(ax) + c$$           |\n",
    "| (vi)  | $$\\int \\csc(ax)\\cot(ax)\\,dx$$        | $$-\\tfrac{1}{a}\\csc(ax) + c$$           |\n",
    "| (vii) | $$\\int \\sec(ax)\\tan(ax)\\,dx$$        | $$\\tfrac{1}{a}\\sec(ax) + c$$            |\n",
    "| (viii)| $$\\int e^{ax}\\,dx$$                  | $$\\tfrac{1}{a}e^{ax} + c$$              |\n",
    "| (ix)  | $$\\int \\frac{1}{x}\\,dx$$             | $$\\ln\\lvert x\\rvert + c$$               |\n"
   ]
  },
  {
   "cell_type": "markdown",
   "id": "9baa78fa",
   "metadata": {},
   "source": [
    "# Contoh Soal dan Penyelesaian"
   ]
  },
  {
   "cell_type": "markdown",
   "id": "4e1a61e8",
   "metadata": {},
   "source": [
    "## Masalah 1\n",
    "Tentukan  \n",
    "$$\n",
    "\\int 5x^2\\,dx\n",
    "$$  \n",
    "Seperti dinyatakan pada rumus umum  \n",
    "$$\n",
    "\\int a\\,x^n\\,dx = \\frac{a\\,x^{n+1}}{n+1} + c,\n",
    "$$  \n",
    "dengan \\(a = 5\\) dan \\(n = 2\\) diperoleh  \n",
    "$$\n",
    "\\int 5x^2\\,dx = \\frac{5\\,x^{2+1}}{2+1} + c = \\frac{5x^3}{3} + c.\n",
    "$$"
   ]
  },
  {
   "cell_type": "code",
   "execution_count": 7,
   "id": "9bb16740",
   "metadata": {},
   "outputs": [
    {
     "data": {
      "text/latex": [
       "$\\displaystyle \\frac{5 x^{3}}{3}$"
      ],
      "text/plain": [
       "5*x**3/3"
      ]
     },
     "execution_count": 7,
     "metadata": {},
     "output_type": "execute_result"
    }
   ],
   "source": [
    "import sympy as sp\n",
    "\n",
    "x = sp.symbols('x')\n",
    "sp.integrate(5*x**2, x)"
   ]
  },
  {
   "cell_type": "markdown",
   "id": "4b46407a",
   "metadata": {},
   "source": [
    "## Masalah 2\n",
    "Tentukan  \n",
    "$$\n",
    "\\int t^2\\,dt\n",
    "$$  \n",
    "Menggunakan rumus yang sama dengan \\(a = 1\\) dan \\(n = 2\\):  \n",
    "$$\n",
    "\\int t^2\\,dt = \\frac{1\\cdot t^{2+1}}{2+1} + c = \\frac{t^3}{3} + c.\n",
    "$$"
   ]
  },
  {
   "cell_type": "code",
   "execution_count": 8,
   "id": "81b91a3e",
   "metadata": {},
   "outputs": [
    {
     "data": {
      "text/latex": [
       "$\\displaystyle \\frac{t^{3}}{3}$"
      ],
      "text/plain": [
       "t**3/3"
      ]
     },
     "execution_count": 8,
     "metadata": {},
     "output_type": "execute_result"
    }
   ],
   "source": [
    "t = sp.symbols('t')\n",
    "sp.integrate(t**2, t)"
   ]
  },
  {
   "cell_type": "markdown",
   "id": "f790b92e",
   "metadata": {},
   "source": [
    "## Masalah 3\n",
    "**Masalah 3(a).**\n",
    "Tentukan  \n",
    "$$\n",
    "\\int \\frac{2x^3 - 3x}{4x}\\,dx\n",
    "$$  \n",
    "Pertama, ubah bentuk integran:  \n",
    "$$\n",
    "\\frac{2x^3 - 3x}{4x}\n",
    "= \\frac{2x^3}{4x} - \\frac{3x}{4x}\n",
    "= (\\frac{1}{2}) \\frac{x^2}{2} - \\frac{3}{4}\n",
    "$$  \n",
    "Maka  \n",
    "$$\n",
    " (\\frac{1}{2}) \\frac{x^{2+1}}{2+1} - \\frac{3}{4}x + c\n",
    "= (\\frac{1}{2}) \\frac{x^3}{3} - \\frac{3}{4}x + c\n",
    "= \\frac{1}{6}x^3 - \\frac{3}{4}x + c\n",
    "$$\n",
    "\n",
    "---\n",
    "\n",
    "**Masalah 3(b).**  \n",
    "Tentukan  \n",
    "$$\n",
    "\\int (1 - t)^2\\,dt\n",
    "$$  \n",
    "Kembangkan kuadratnya:  \n",
    "$$\n",
    "(1 - t)^2 = 1 - 2t + t^2.\n",
    "$$  \n",
    "Sehingga  \n",
    "$$\n",
    "\\int(1 - t)^2\\,dt\n",
    "= \\int(1 - 2t + t^2)\\,dt\n",
    "= t - \\frac{2t^{1+1}}{1+1} + \\frac{t^{2+1}}{2+1} + c\n",
    "= t - \\frac{2t^2}{2} + \\frac{t^3}{3} + c\n",
    "= t - t^2 + \\frac{1}{3} t^3 + c.\n",
    "$$"
   ]
  },
  {
   "cell_type": "code",
   "execution_count": null,
   "id": "bd714346",
   "metadata": {},
   "outputs": [
    {
     "data": {
      "text/plain": [
       "(x**3/6 - 3*x/4, t**3/3 - t**2 + t)"
      ]
     },
     "execution_count": 1,
     "metadata": {},
     "output_type": "execute_result"
    }
   ],
   "source": [
    "import sympy as sp\n",
    "\n",
    "x, t = sp.symbols('x, t')\n",
    "expr3a = (2*x**3 - 3*x)/(4*x)\n",
    "expr3b = (1 - t)**2\n",
    "\n",
    "sp.integrate(expr3a, x), sp.integrate(expr3b, t)"
   ]
  },
  {
   "cell_type": "markdown",
   "id": "2017838d",
   "metadata": {},
   "source": [
    "## Masalah 4\n",
    "Tentukan  \n",
    "$$\n",
    "\\int 3x^{-2}\\,dx\n",
    "$$  \n",
    "Berdasarkan rumus umum dengan \\(a=3\\) dan \\(n=-2\\):  \n",
    "$$\n",
    "\\int 3x^{-2}\\,dx\n",
    "= 3\\cdot\\frac{x^{-2+1}}{-2+1} + c\n",
    "= 3\\cdot\\frac{x^{-1}}{-1} + c\n",
    "= -3x^{-1} + c\n",
    "= -\\frac{3}{x} + c.\n",
    "$$"
   ]
  },
  {
   "cell_type": "code",
   "execution_count": 10,
   "id": "4f67eebc",
   "metadata": {},
   "outputs": [
    {
     "data": {
      "text/latex": [
       "$\\displaystyle - \\frac{3}{x}$"
      ],
      "text/plain": [
       "-3/x"
      ]
     },
     "execution_count": 10,
     "metadata": {},
     "output_type": "execute_result"
    }
   ],
   "source": [
    "import sympy as sp\n",
    "\n",
    "x = sp.symbols('x')\n",
    "sp.integrate(3*x**(-2), x)"
   ]
  },
  {
   "cell_type": "markdown",
   "id": "c5407c29",
   "metadata": {},
   "source": [
    "# Integral tentu"
   ]
  },
  {
   "cell_type": "markdown",
   "id": "847fd5c9",
   "metadata": {},
   "source": [
    "Integral dengan konstanta sembarang `c` disebut **integral tak tentu** karena nilainya tidak bisa ditentukan tanpa informasi tambahan.\n",
    "\n",
    "**Integral tentu** adalah integral yang diberikan dengan batas bawah dan batas atas tertentu.\n",
    "\n",
    "Jika suatu ekspresi ditulis sebagai:\n",
    "\n",
    "$$\n",
    "[f(x)]_a^b = f(b) - f(a)\n",
    "$$\n",
    "\n",
    "Maka:\n",
    "\n",
    "- `a` adalah **batas bawah**\n",
    "- `b` adalah **batas atas**\n",
    "\n",
    "---\n",
    "\n",
    "Contoh 1: Integral dari \\( x^2 \\) dari 1 sampai 3\n",
    "\n",
    "$$\n",
    "\\int_1^3 x^2 \\, dx\n",
    "$$\n",
    "\n",
    "Langkah-langkah:\n",
    "\n",
    "$$\n",
    "= \\left[ \\frac{x^3}{3} + c \\right]_1^3 = \\left( \\frac{27}{3} + c \\right) - \\left( \\frac{1}{3} + c \\right) = 9 - \\frac{1}{3} = \\frac{26}{3}\n",
    "$$\n",
    "\n",
    "Catatan: Konstanta `c` selalu saling menghapus, jadi tidak perlu ditulis pada integral tentu.\n",
    "\n",
    "---\n",
    "\n",
    " Contoh 2: Soal Evaluasi\n",
    "\n",
    " (a) \n",
    "$$\n",
    "\\int_1^2 3x \\, dx\n",
    "$$\n",
    "\n",
    "$$\n",
    "= \\left[ \\frac{3x^2}{2} \\right]_1^2 = \\frac{3(4)}{2} - \\frac{3(1)}{2} = 6 - 1.5 = 4.5\n",
    "$$\n",
    "\n",
    " (b) \n",
    "$$\n",
    "\\int_{-2}^{3} (4 - x^2) \\, dx\\\n",
    "$$\n",
    "\n",
    "$$\n",
    "= \\left[ 4x - \\frac{x^3}{3} \\right]_{-2}^3\n",
    "= \\left( 12 - \\frac{27}{3} \\right) - \\left( -8 - \\frac{-8}{3} \\right)\n",
    "= (12 - 9) - (-8 + \\frac{8}{3}) = 3 - (-\\frac{16}{3}) = \\frac{25}{3}\n",
    "$$\n",
    "\n",
    "---\n",
    "\n",
    " Contoh 3: Soal Campuran Bentuk Akar\n",
    "\n",
    "Evaluasi:\n",
    "\n",
    "$$\n",
    "\\int_1^4 \\left( \\theta + 2\\sqrt{\\theta} \\right) d\\theta\n",
    "$$\n",
    "\n",
    "$$\n",
    "= \\int_1^4 \\left( \\theta^{1} + 2\\theta^{1/2} \\right) d\\theta\n",
    "= \\left[ \\frac{\\theta^2}{2} + \\frac{4\\theta^{3/2}}{3} \\right]_1^4\n",
    "= \\left( \\frac{16}{2} + \\frac{4 \\cdot 8}{3} \\right) - \\left( \\frac{1}{2} + \\frac{4 \\cdot 1}{3} \\right)\n",
    "$$\n",
    "\n",
    "$$\n",
    "= 8 + \\frac{32}{3} - \\left( \\frac{1}{2} + \\frac{4}{3} \\right)\n",
    "= \\frac{24}{3} + \\frac{32}{3} - \\left( \\frac{3}{6} + \\frac{8}{6} \\right)\n",
    "= \\frac{56}{3} - \\frac{11}{6} = \\frac{101}{6}\n",
    "$$\n"
   ]
  },
  {
   "cell_type": "code",
   "execution_count": 4,
   "id": "0565d77c",
   "metadata": {},
   "outputs": [
    {
     "name": "stdout",
     "output_type": "stream",
     "text": [
      "Contoh 1 (∫ x^2 dx dari 1 sampai 3): 26/3\n"
     ]
    }
   ],
   "source": [
    "from sympy import symbols, integrate, sqrt\n",
    "\n",
    "x = symbols('x')\n",
    "θ = symbols('θ')\n",
    "\n",
    "integral_1 = integrate(x**2, (x, 1, 3))\n",
    "print(\"Contoh 1 (∫ x^2 dx dari 1 sampai 3):\", integral_1)"
   ]
  },
  {
   "cell_type": "code",
   "execution_count": 2,
   "id": "faecfe23",
   "metadata": {},
   "outputs": [
    {
     "name": "stdout",
     "output_type": "stream",
     "text": [
      "Contoh 2a (∫ 3x dx dari 1 sampai 2): 9/2\n",
      "Contoh 2b (∫ (4 - x^2) dx dari -2 sampai 3): 25/3\n"
     ]
    }
   ],
   "source": [
    "integral_2a = integrate(3*x, (x, 1, 2))\n",
    "print(\"Contoh 2a (∫ 3x dx dari 1 sampai 2):\", integral_2a)\n",
    "\n",
    "integral_2b = integrate(4 - x**2, (x, -2, 3))\n",
    "print(\"Contoh 2b (∫ (4 - x^2) dx dari -2 sampai 3):\", integral_2b)"
   ]
  },
  {
   "cell_type": "code",
   "execution_count": 3,
   "id": "a249946e",
   "metadata": {},
   "outputs": [
    {
     "name": "stdout",
     "output_type": "stream",
     "text": [
      "Contoh 3 (∫ (θ + 2√θ) dθ dari 1 sampai 4): 101/6\n"
     ]
    }
   ],
   "source": [
    "integral_3 = integrate(θ + 2*sqrt(θ), (θ, 1, 4))\n",
    "print(\"Contoh 3 (∫ (θ + 2√θ) dθ dari 1 sampai 4):\", integral_3)"
   ]
  }
 ],
 "metadata": {
  "kernelspec": {
   "display_name": "Python 3",
   "language": "python",
   "name": "python3"
  },
  "language_info": {
   "codemirror_mode": {
    "name": "ipython",
    "version": 3
   },
   "file_extension": ".py",
   "mimetype": "text/x-python",
   "name": "python",
   "nbconvert_exporter": "python",
   "pygments_lexer": "ipython3",
   "version": "3.13.2"
  }
 },
 "nbformat": 4,
 "nbformat_minor": 5
}
