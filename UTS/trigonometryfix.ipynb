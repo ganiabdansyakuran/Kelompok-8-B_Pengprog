{
 "cells": [
  {
   "cell_type": "markdown",
   "metadata": {},
   "source": [
    "# Trigonometri\n",
    "Trigonometri merupakan salah satu cabang dari matematika yang mempelajari hubungan antara sudut dan sisi dalam segitiga. Kata trigonometri berasal dari bahasa Yunani, yaitu trigonon yang berarti \"tiga sudut\" (segitiga) dan metron yang berarti \"pengukuran\". Dengan demikian, trigonometri secara harfiah berarti pengukuran segitiga.\n",
    "\n",
    "Trigonometri memiliki peran penting dalam berbagai bidang ilmu dan kehidupan sehari-hari, seperti dalam bidang teknik, fisika, astronomi, arsitektur, bahkan dalam teknologi modern seperti grafik komputer dan sistem navigasi GPS. Melalui trigonometri, kita dapat menghitung jarak, tinggi, dan sudut yang tidak dapat diukur secara langsung hanya dengan menggunakan konsep dasar dan identitas trigonometri."
   ]
  },
  {
   "cell_type": "markdown",
   "metadata": {},
   "source": [
    "# Segitiga Siku-siku\n",
    "Segitiga siku-siku adalah dasar penting dalam materi trigonometri, karena semua fungsi trigonometri (seperti sinus, cosinus, dan tangen) awalnya didefinisikan berdasarkan segitiga jenis ini.\n",
    "Segitiga siku-siku adalah segitiga yang memiliki satu sudut sebesar 90° (siku-siku). Sisi-sisi segitiga ini terdiri dari:\n",
    "1. **Sisi miring (hipotenusa)**: sisi terpanjang yang berhadapan langsung dengan sudut siku-siku.\n",
    "2. **Sisi depan (opposite)**: sisi yang berada di depan sudut yang sedang dibahas.\n",
    "3. **Sisi samping (adjacent)**: sisi yang berada di samping sudut (selain sisi miring).\n",
    "\n",
    "Hubungan antar sisi dalam segitiga siku-siku juga bisa dihitung menggunakan teorema Pythagoras:\n",
    "$$ \\text {sisi miring} ^2= \\text {sisi depan} ^2 + \\text {sisi samping} ^2 $$\n",
    "Inilah sebabnya segitiga siku-siku sangat penting dalam memahami konsep dasar trigonometri."
   ]
  },
  {
   "cell_type": "markdown",
   "metadata": {},
   "source": [
    "# Fungsi Trigonometri Dasar\n",
    "\n",
    "Untuk sebuah segitiga siku-siku dengan sudut $( \\theta )$, terdapat tiga fungsi trigonometri dasar yang digunakan untuk menghitung hubungan antara sisi-sisi segitiga:\n",
    "\n",
    "1. **Sinus (sin)**\n",
    "   $$\n",
    "   \\sin(\\theta) = \\frac{\\text{sisi depan}}{\\text{sisi miring}}\n",
    "   $$\n",
    "\n",
    "2. **Kosinus (cos)**\n",
    "   $$\n",
    "   \\cos(\\theta) = \\frac{\\text{sisi samping}}{\\text{sisi miring}}\n",
    "   $$\n",
    "\n",
    "3. **Tangen (tan)**\n",
    "   $$\n",
    "   \\tan(\\theta) = \\frac{\\text{sisi depan}}{\\text{sisi samping}}\n",
    "   $$\n",
    "\n",
    "4. **Sekan (sec)**\n",
    "$$\n",
    "\\sec(\\theta) = \\frac{1}{cos(\\theta)}\n",
    "$$\n",
    "\n",
    "5. **Kosekan (csc)**\n",
    "$$\n",
    "\\csc(\\theta) = \\frac{1}{cos(\\theta)}\n",
    "$$\n",
    "\n",
    "6. **Kotangen (cot)**\n",
    "$$\n",
    "\\cot(\\theta) = \\frac{1}{tan(\\theta)} = \\frac{cos(\\theta)}{sin(\\theta)}\n",
    "$$"
   ]
  },
  {
   "cell_type": "markdown",
   "metadata": {},
   "source": [
    "# Identitas Trigonometri\n",
    "Identitas trigonometri adalah persamaan matematika yang melibatkan fungsi-fungsi trigonometri yang selalu benar untuk setiap nilai sudut yang memenuhi domain fungsi tersebut. Dalam kata lain, identitas trigonometri menyatakan hubungan yang selalu berlaku antara fungsi-fungsi trigonometri, dan mereka digunakan untuk menyederhanakan ekspresi trigonometri, serta untuk menyelesaikan berbagai jenis persamaan trigonometri.\n",
    "1. **Identitas Pythagoras**\n",
    "\n",
    "Identitas ini adalah hubungan dasar antara fungsi trigonometri sinus, kosinus, tangen, dan sekans yang berasal dari teorema Pythagoras.\n",
    "- Identitas Pythagoras $(\\sin \\text{dan} \\cos)$\n",
    "$$\\sin^2x+\\cos^2x=1$$\n",
    "Identitas ini menyatakan bahwa kuadrat dari sinus dan kosinus suatu sudut selalu sama dengan 1. Ini adalah identitas yang paling fundamental dalam trigonometri.\n",
    "- Identitas untuk tangen dan sekans:\n",
    "$$1+\\tan^2x=\\sec^2x$$\n",
    "Identitas ini menyatakan hubungan antara fungsi tangen (tan), sekans (sec), kotangen (cot), dan kosekan (csc). Mereka sering digunakan untuk menyederhanakan ekspresi trigonometri.\n",
    "\n",
    "2. **Identitas Perbandingan**\n",
    "\n",
    "Identitas ini menyatakan hubungan antara fungsi trigonometri yang berbeda.\n",
    "Tangen dan sinus, cosinus:\n",
    "$$\\tan x=\\frac{\\sin x}{\\cos x}, \\cot x=\\frac{\\cos x}{\\sin x}$$\n",
    "Tangen adalah perbandingan antara sinus dan kosinus. Demikian juga, kotangen adalah kebalikan dari tangen.\n",
    "Sekans dan kosekan:\n",
    "$$\\sec x=\\frac{1}{\\cos x}, \\csc x=\\frac{1}{\\sin x}$$\n",
    "Sekans adalah kebalikan dari kosinus, dan kosekan adalah kebalikan dari sinus.\n",
    "\n",
    "3. **Identitas Sudut Ganda dan Setengah**\n",
    "\n",
    "Identitas sudut ganda digunakan untuk menghitung nilai fungsi trigonometri pada dua kali suatu sudut, sementara identitas sudut setengah digunakan untuk menghitung nilai fungsi trigonometri pada setengah suatu sudut.\n",
    "\n",
    "- Sudut ganda (misalnya $\\sin(2x)$):\n",
    "$$\\sin(2x)=2\\sin x \\cos x$$\n",
    "Artinya, sinus dari dua kali suatu sudut adalah dua kali hasil perkalian sinus dan kosinus dari sudut tersebut.\n",
    "\n",
    "- Cosinus sudut ganda\n",
    "$$\\cos(2x)=\\cos^2x - \\sin^2x$$\n",
    "atau bisa juga ditulis\n",
    "$$\\cos(2x)=2\\cos^2x-1\\\\ \\text{atau}\\\\ \\cos(2x)=1-\\sin^2x$$\n",
    "\n",
    "4. **Identitas Penjumlahan dan Pengurangan Sudut**\n",
    "\n",
    "Identitas ini digunakan ketika kita ingin menghitung nilai fungsi trigonometri untuk penjumlahan atau pengurangan dua sudut.\n",
    "\n",
    "Penjumlahan sinus dan kosinus:\n",
    "$$\\sin(a\\pm b)=\\sin a \\cos b \\pm \\cos a \\sin b\\\\ \\cos(a \\pm b)=\\cos a \\cos b \\pm \\sin a \\sin b$$\n",
    "\n",
    "Ini memungkinkan kita untuk menghitung nilai sinus dan kosinus dari penjumlahan atau pengurangan dua sudut.\n",
    "\n",
    "5. **Identitas Fungsi dalam Kuadran**\n",
    "Fungsi trigonometri berbeda nilainya tergantung pada kuadran tempat sudut tersebut berada.\n",
    "- Di kuadran I: Semua fungsi trigonometri positif.\n",
    "- Di kuadran II: Sinus positif, sementara kosinus dan tangen negatif.\n",
    "- Di kuadran III: Tangen positif, sementara sinus dan kosinus negatif.\n",
    "- Di kuadran IV: Kosinus positif, sementara sinus dan tangen negatif."
   ]
  },
  {
   "cell_type": "markdown",
   "metadata": {},
   "source": [
    "# Grafik Fungsi Trigonometri\n",
    "\n",
    "Pada materi ini, kita akan membahas tentang **grafik fungsi trigonometri** seperti **sinus (sin)**, **kosinus (cos)**, dan **tangen (tan)**, yang merupakan fungsi-fungsi yang paling dasar dalam trigonometri. Fungsi-fungsi ini memiliki sifat **periodik**, yang berarti grafiknya akan berulang setelah interval tertentu. Mari kita bahas lebih rinci.\n",
    "\n",
    "## 1. Fungsi Sinus (sin)\n",
    "\n",
    "Fungsi sinus menggambarkan hubungan antara sudut dan panjang sisi di dalam segitiga siku-siku. Grafik fungsi sinus berbentuk **gelombang** yang naik dan turun, berulang setelah periode tertentu.\n",
    "\n",
    "### Persamaan Umum:\n",
    "$$\n",
    "y = \\sin(x)\n",
    "$$\n",
    "\n",
    "### Ciri-Ciri Grafik Sinus:\n",
    "- **Periode**: $2\\pi$ (atau 360°).\n",
    "- **Amplitudo**: 1 (nilai maksimum dan minimum adalah 1 dan -1).\n",
    "- **Titik potong dengan sumbu $x$**: $x = 0, \\pm \\pi, \\pm 2\\pi, \\dots$.\n",
    "- **Titik maksimum**: $y = 1$ pada $x = \\frac{\\pi}{2} + 2k\\pi$.\n",
    "- **Titik minimum**: $y = -1$ pada $x = \\frac{3\\pi}{2} + 2k\\pi$.\n",
    "\n",
    "### Grafik Sinus:\n",
    "Grafik sinus dimulai dari titik $(0, 0)$, kemudian naik ke titik maksimum di $x = \\frac{\\pi}{2}$, turun kembali ke titik potong di $x = \\pi$, dan mencapai titik minimum di $x = \\frac{3\\pi}{2}$, sebelum kembali ke titik potong di $x = 2\\pi$.\n",
    "\n",
    "\n",
    "## 2. Fungsi Kosinus (cos)\n",
    "\n",
    "Fungsi kosinus mirip dengan sinus, tetapi grafiknya bergeser secara horizontal.\n",
    "\n",
    "### Persamaan Umum:\n",
    "$$\n",
    "y = \\cos(x)\n",
    "$$\n",
    "\n",
    "### Ciri-Ciri Grafik Kosinus:\n",
    "- **Periode**: $2\\pi$ (atau 360°).\n",
    "- **Amplitudo**: 1.\n",
    "- **Titik potong dengan sumbu $x$**: $x = \\frac{\\pi}{2}, \\frac{3\\pi}{2}, \\dots$.\n",
    "- **Titik maksimum**: $y = 1$ pada $x = 0, 2\\pi, \\dots$.\n",
    "- **Titik minimum**: $y = -1$ pada $x = \\pi, 3\\pi, \\dots$.\n",
    "\n",
    "### Grafik Kosinus:\n",
    "Grafik kosinus dimulai dari titik maksimum di $x = 0$, turun menuju titik potong di $x = \\frac{\\pi}{2}$, mencapai titik minimum di $x = \\pi$, naik lagi ke titik potong di $x = \\frac{3\\pi}{2}$, dan kembali ke titik maksimum lagi di $x = 2\\pi$.\n",
    "\n",
    "\n",
    "## 3. Fungsi Tangen (tan)\n",
    "\n",
    "Fungsi tangen memiliki sifat yang berbeda dengan sinus dan kosinus. Grafiknya memiliki **titik asimptot** (garis yang tidak dapat ditembus) di beberapa titik, yang membuat grafik tangen terlihat sangat berbeda.\n",
    "\n",
    "### Persamaan Umum:\n",
    "$$\n",
    "y = \\tan(x)\n",
    "$$\n",
    "\n",
    "### Ciri-Ciri Grafik Tangen:\n",
    "- **Periode**: $\\pi$ (atau 180°).\n",
    "- **Amplitudo**: Tidak terbatas (grafiknya tidak memiliki batas atas dan bawah).\n",
    "- **Asimptot**: Titik vertikal yang tidak terdefinisi pada $x = \\frac{\\pi}{2} + k\\pi$, untuk sembarang $k \\in \\mathbb{Z}$.\n",
    "- **Titik potong dengan sumbu $x$**: $x = 0, \\pm \\pi, \\pm 2\\pi, \\dots$.\n",
    "\n",
    "### Grafik Tangen:\n",
    "Grafik tangen terdiri dari garis-garis yang naik atau turun melalui titik potong dengan sumbu $x$, dengan asimptot yang memisahkan dua segmen grafik. Grafik ini memiliki periode $\\pi$ dan tidak terbatas dalam nilai $y$, bergerak dari negatif tak hingga menuju positif tak hingga (atau sebaliknya) pada setiap interval antara dua asimptot.\n"
   ]
  },
  {
   "cell_type": "markdown",
   "metadata": {},
   "source": [
    "---"
   ]
  },
  {
   "cell_type": "markdown",
   "metadata": {},
   "source": [
    "# Contoh Soal"
   ]
  },
  {
   "cell_type": "markdown",
   "metadata": {},
   "source": [
    "1. Di sebuah kawasan pegunungan, terdapat dua titik pengukuran yang dikenal sebagai titik A dan titik B. Titik A terletak di ketinggian 300 meter di atas permukaan laut, sementara titik B terletak 500 meter di atas permukaan laut. Jika kedua titik tersebut terpisah sejauh 1000 meter secara horizontal, hitunglah jarak garis lurus antara titik A dan titik B!"
   ]
  },
  {
   "cell_type": "code",
   "execution_count": 4,
   "metadata": {},
   "outputs": [
    {
     "name": "stdout",
     "output_type": "stream",
     "text": [
      "Jarak garis lurus antara titik A dan B adalah: 1019.80 meter\n"
     ]
    }
   ],
   "source": [
    "import math\n",
    "\n",
    "ketinggian_A = 300  \n",
    "ketinggian_B = 500\n",
    "jarak_horizontal = 1000  \n",
    "\n",
    "delta_h = ketinggian_B - ketinggian_A\n",
    "\n",
    "jarak = math.sqrt(jarak_horizontal**2 + delta_h**2)\n",
    "\n",
    "print(f\"Jarak garis lurus antara titik A dan B adalah: {jarak:.2f} meter\")"
   ]
  },
  {
   "cell_type": "markdown",
   "metadata": {},
   "source": [
    "2. Dari titik pengamatan yang terletak di ketinggian 200 meter di atas permukaan laut, seorang pengamat mengamati sebuah pesawat yang terbang di atas permukaan laut. Jika jarak horizontal antara pengamat dan pesawat adalah 15 km, dan pesawat terbang pada ketinggian 3 km, hitunglah sudut elevasi pesawat terhadap pengamat!"
   ]
  },
  {
   "cell_type": "code",
   "execution_count": 6,
   "metadata": {},
   "outputs": [
    {
     "name": "stdout",
     "output_type": "stream",
     "text": [
      "Sudut elevasi pesawat terhadap pengamat adalah: 10.57°\n"
     ]
    }
   ],
   "source": [
    "ketinggian_pengamat = 0.2  \n",
    "ketinggian_pesawat = 3.0  \n",
    "jarak_horizontal = 15.0  \n",
    "\n",
    "delta_h = ketinggian_pesawat - ketinggian_pengamat\n",
    "\n",
    "sudut_elevasi = math.degrees(math.atan(delta_h / jarak_horizontal))\n",
    "\n",
    "print(f\"Sudut elevasi pesawat terhadap pengamat adalah: {sudut_elevasi:.2f}°\")"
   ]
  }
 ],
 "metadata": {
  "kernelspec": {
   "display_name": "geomath",
   "language": "python",
   "name": "python3"
  },
  "language_info": {
   "codemirror_mode": {
    "name": "ipython",
    "version": 3
   },
   "file_extension": ".py",
   "mimetype": "text/x-python",
   "name": "python",
   "nbconvert_exporter": "python",
   "pygments_lexer": "ipython3",
   "version": "3.13.2"
  }
 },
 "nbformat": 4,
 "nbformat_minor": 2
}
