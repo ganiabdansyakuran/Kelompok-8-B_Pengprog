{
 "cells": [
  {
   "cell_type": "markdown",
   "id": "94f2e2c1",
   "metadata": {},
   "source": [
    "# Nama : Haikal Pratama"
   ]
  },
  {
   "cell_type": "markdown",
   "id": "8e009f59",
   "metadata": {},
   "source": [
    "# Nim :H061241058"
   ]
  },
  {
   "cell_type": "markdown",
   "id": "d7ca37ce",
   "metadata": {},
   "source": [
    "# Kelas : B"
   ]
  },
  {
   "cell_type": "markdown",
   "id": "0e3d0be3",
   "metadata": {},
   "source": [
    "# Kelompok 8B"
   ]
  },
  {
   "cell_type": "markdown",
   "id": "8d0d069a",
   "metadata": {},
   "source": [
    "#  Binomial Theorem and Sequences"
   ]
  },
  {
   "cell_type": "markdown",
   "id": "9597f792",
   "metadata": {},
   "source": [
    "## 3.1 Binomial "
   ]
  },
  {
   "cell_type": "markdown",
   "id": "afda59a5",
   "metadata": {},
   "source": [
    "Teorema Binomial merupakan suatu prinsip fundamental dalam aljabar yang menyatakan ekspansi dari pangkat bilangan binomial. Binomial dapat juga diartikan suatu rumus dalam matematika yang digunakan untuk menjabarkan  bentuk perpangkatan dari suatu binomial, yaitu $(a+b)^n$, dimana $a$ dan $b$ adalah sembarang bilangan riil (atau kompleks), dan $n$ adalah bilangan bulat tak negatif."
   ]
  },
  {
   "cell_type": "markdown",
   "id": "e69f2d55",
   "metadata": {},
   "source": [
    "$$(a + b)^2 = (a + b)(a + b) = a(a + b) + b(a + b) = a^2 + 2ab + b^2\\tag{3.1}$$"
   ]
  },
  {
   "cell_type": "markdown",
   "id": "f6498ba4",
   "metadata": {},
   "source": [
    "### 3.1.1 Factorial "
   ]
  },
  {
   "cell_type": "markdown",
   "id": "1823d8fb",
   "metadata": {},
   "source": [
    "Faktorial adalah operasi matematika yang melibatkan hasil kali semua bilangan asli dari 1 hingga suatu bilangan tertentu, ($n$ ). Faktorial dilambangkan dengan tanda seru ($!$), seperti ( $n! $).\n",
    "Dalam matematika, faktorial dari suatu bilangan bulat non-negatif $𝑛$, yang ditulis sebagai $𝑛!$, adalah hasil perkalian semua bilangan bulat positif "
   ]
  },
  {
   "cell_type": "markdown",
   "id": "9cf21979",
   "metadata": {},
   "source": [
    " Contohnya:- \n",
    " $$ 1! = 1 $$\n",
    "$$ 2! = 2 \\times 1 = 2$$\n",
    "$$ 3! = 3 \\times 2 \\times 1 = 6 $$\n",
    "\n",
    "\n"
   ]
  },
  {
   "cell_type": "markdown",
   "id": "48b5288e",
   "metadata": {},
   "source": [
    "koefisien binomial biasanya dituliskan dalam bentuk:\n",
    "$$\\binom{n}{r} \\equiv {}^n C_r \\equiv \\frac{n!}{r!(n-r)!}$$  \n",
    "Disini, $\\equiv$ dapat diartikan 'didefinisikan sebagai' atau 'sama persis dengan'. "
   ]
  },
  {
   "cell_type": "markdown",
   "id": "1c057390",
   "metadata": {},
   "source": [
    "atau, secara penjabaran penggerjannya dapat dituliskan dalam bentuk:  \n",
    "$$\\binom{n}{r} = \\frac{n(n-1)(n-2)...(n-r+1)}{1 \\times 2 \\times ... \\times (r-1) \\times r}$$"
   ]
  },
  {
   "cell_type": "markdown",
   "id": "0084f8c3",
   "metadata": {},
   "source": [
    "Salah satu contoh, untuk menghitung $\\binom{12}{6}$, dapat digunakan   \n",
    "$$\\binom{12}{6} = \\frac{12 \\times 11\\times 10 \\times 9\\times 8\\times 7}{1 \\times  2\\times 3 \\times 4 \\times 5\\times 6} = \\frac{665.280}{720} = 924$$   \n",
    "atau   \n",
    "$$\\binom{12}{6} = \\frac{12!}{6!(12-6)!} = \\frac{665.280}{720 \\times 720} = 924$$"
   ]
  },
  {
   "cell_type": "markdown",
   "id": "23754433",
   "metadata": {},
   "source": [
    "### 3.1.2 Teorema segitiga pascal\n"
   ]
  },
  {
   "cell_type": "markdown",
   "id": "0a11e51d",
   "metadata": {},
   "source": [
    "Segitiga Pascal adalah metode visual untuk mendapatkan koefisien dalam ekspansi binomial ((a+b)^n). Struktur ini berupa segitiga yang dimulai dengan angka (1) di puncak, dan setiap angka berikutnya merupakan hasil penjumlahan dua angka di atasnya.\n",
    "$$\\begin{array}{ccccccc}\n",
    "&&&&&1&&\\\\\n",
    "&&&&1&&1&\\\\\n",
    "&&&1&&2&&1\\\\\n",
    "&&1&&3&&3&&1\\\\\n",
    "&1&&4&&6&&4&&1\\\\\n",
    "1&&5&&10&&10&&5&&1\\\\\n",
    "\\end{array}$$\n"
   ]
  },
  {
   "cell_type": "markdown",
   "id": "925d92b7",
   "metadata": {},
   "source": [
    "## 3.2 Seqcuence(Barisan)"
   ]
  },
  {
   "cell_type": "markdown",
   "id": "1ce62dce",
   "metadata": {},
   "source": [
    "Deret adalah barisan bilangan yang mengikuti aturan tertentu, baik berupa formula eksplisit, hubungan rekursif antara suku-suku berurutan, atau pola deterministik lainnya. Setiap bilangan dalam deret disebut sebagai suku. \n"
   ]
  },
  {
   "cell_type": "markdown",
   "id": "00da0cb5",
   "metadata": {},
   "source": [
    "Secara umum, barisan dinyatakan dengan:  \n",
    "$a_1, a_2, a_3, ... a_n$   \n",
    " di mana $a_1$ adalah suku pertama dan suku ke-n adalah $a_n$.\n",
    " \n",
    " Misalnya, deret bilangan: $$(1, 2, 3, 4, 5, \\dots)$$\n",
    "dengan 1 sebagai suku pertama dan 5 sebagai suku kelima."
   ]
  },
  {
   "cell_type": "markdown",
   "id": "5b9a72dd",
   "metadata": {},
   "source": [
    "Jenis-jenis deret:\n",
    "- Deret Aritmetika (Arithmetic Sequence):- Setiap suku memiliki selisih tetap antar-suku (disebut beda, d).\n",
    "- Rumusnya adalah: $$a_n = a + (n - 1)d,$$ di mana (a) adalah suku pertama, dan (d) adalah beda antar-suku.\n",
    "- Contoh: Deret -1, 1, 3, 5,... memiliki $(a = -1)$ dan $(d = 2)$.\n",
    "\n",
    "- Deret Geometri (Geometric Sequence):- Setiap suku memiliki rasio tetap (disebut rasio, r).\n",
    "- Rumusnya adalah: $$a_n = ar^{n-1},$$ di mana (a) adalah suku pertama, dan (r) adalah rasio.\n",
    "- Contoh: Deret 2, 1, 0.5, 0.25,... memiliki $(a = 2)$ dan $(r = 1/2)$.\n",
    "\n",
    "\n",
    "\n"
   ]
  },
  {
   "cell_type": "markdown",
   "id": "b2837f50",
   "metadata": {},
   "source": [
    "### 3.2.1 Deret Fibbonacci"
   ]
  },
  {
   "cell_type": "markdown",
   "id": "d9bb5fe2",
   "metadata": {},
   "source": [
    "Deret Fibonacci adalah barisan angka yang mengikuti pola tertentu: setiap angka (suku) dalam deret adalah hasil penjumlahan dari dua angka sebelumnya. \n",
    "\n"
   ]
  },
  {
   "cell_type": "markdown",
   "id": "f99aa66e",
   "metadata": {},
   "source": [
    " Deret ini dimulai dengan (0) dan (1), menghasilkan:\n",
    "$$[ 0, 1, 1, 2, 3, 5, 8, 13, 21, \\dots ]$$"
   ]
  },
  {
   "cell_type": "markdown",
   "id": "4554f40b",
   "metadata": {},
   "source": [
    "Kenapa sih Deret Fibonacci Bukan Deret Bilangan Bertambah $$(0, 1, 2, 3, 4, 5, 6, 7 ...)?$$\n",
    "Deret Fibonacci Hubungan antara suku-suku Fibonacci dijelaskan dengan rumus rekursif: $$[ a_{n+1} = a_n + a_{n-1} ]$$ Dimulai dari: $$[ a_0 = 0 \\quad \\text{dan} \\quad a_1 = 1 ]$$\n",
    "Dimulai dengan $(a_0 = 0)$ dan ($a_1 = 1$). Ini tuh berbeda dengan deret bilangan alami seperti $$(0, 1, 2, 3, \\dots)$$, yang hanya menambah angka secara bertahap."
   ]
  },
  {
   "cell_type": "markdown",
   "id": "a31a138c",
   "metadata": {},
   "source": [
    "\n",
    "### 3.2.2 Sum of a Seriees \n"
   ]
  },
  {
   "cell_type": "markdown",
   "id": "3a89744c",
   "metadata": {},
   "source": [
    "\n",
    "- Jumlah Deret Aritmatika: Deret aritmatika adalah deret dengan beda (d) yang tetap di antara dua suku berturut-turut. Rumus jumlah deret aritmatika untuk n suku adalah: $$ S = \\frac{n}{2} (a + an) $$ Di mana:  \n",
    "- $( a )$: suku pertama\n",
    "- $( an )$: suku terakhir\n",
    "- $( n )$: jumlah suku\n",
    "Jika $( an )$ tidak diberikan, kita bisa menghitungnya menggunakan rumus: $$ an = a + (n - 1)d $$\n",
    "- Jumlah Deret Geometri: Deret geometri adalah deret di mana setiap suku diperoleh dengan mengalikan suku sebelumnya dengan rasio tetap $(r)$. Rumus jumlah deret geometri adalah:- Jika $( r \\neq 1 )$: $$ S = \\frac{a(1 - r^n)}{1 - r} $$\n",
    "- Jika ( r = 1 ), maka semua suku sama, dan jumlahnya menjadi: $$ S = na $$\n",
    "Di mana:\n",
    "- ( a ): suku pertama\n",
    "- ( r ): rasio\n",
    "- ( n ): jumlah suku\n",
    "\n"
   ]
  },
  {
   "cell_type": "markdown",
   "id": "bd37fdbd",
   "metadata": {},
   "source": [
    "## CONTOH SOAL\n"
   ]
  },
  {
   "cell_type": "markdown",
   "id": "510a8728",
   "metadata": {},
   "source": [
    "### 1.  Ekspansikan $(a + 2x)^4 $"
   ]
  },
  {
   "cell_type": "code",
   "execution_count": null,
   "id": "ecda0c63",
   "metadata": {},
   "outputs": [
    {
     "data": {
      "text/latex": [
       "$\\displaystyle a^{4} + 8 a^{3} x + 24 a^{2} x^{2} + 32 a x^{3} + 16 x^{4}$"
      ],
      "text/plain": [
       "a**4 + 8*a**3*x + 24*a**2*x**2 + 32*a*x**3 + 16*x**4"
      ]
     },
     "execution_count": 4,
     "metadata": {},
     "output_type": "execute_result"
    }
   ],
   "source": [
    "import sympy \n",
    "from sympy import expand, symbols\n",
    "\n",
    "x = symbols('x')\n",
    "a = symbols('a')\n",
    "fungsi = (a + 2*x )**4\n",
    "\n",
    "ekspansi = expand(fungsi)\n",
    "ekspansi\n",
    "\n"
   ]
  },
  {
   "cell_type": "markdown",
   "id": "23c37d98",
   "metadata": {},
   "source": [
    "### 2. Carilah suku ke-11 dari deret 8, 14, 20, 26"
   ]
  },
  {
   "cell_type": "code",
   "execution_count": null,
   "id": "1792c7af",
   "metadata": {},
   "outputs": [
    {
     "name": "stdout",
     "output_type": "stream",
     "text": [
      "Suku ke-11 dari deret tersebut adalah 68\n"
     ]
    }
   ],
   "source": [
    "from sympy import symbols\n",
    "\n",
    "n = 11\n",
    "b = 6\n",
    "a = 8\n",
    "\n",
    "Suku_ke_11 = a + (n-1) * b\n",
    "\n",
    "print('Suku ke-11 dari deret tersebut adalah', (Suku_ke_11 ))\n"
   ]
  },
  {
   "cell_type": "markdown",
   "id": "635f2665",
   "metadata": {},
   "source": [
    "### 3. Carilah jumlah deret dari 11 suku pertama dari deret 4, 7, 10, 13  "
   ]
  },
  {
   "cell_type": "code",
   "execution_count": null,
   "id": "1ce3a0f4",
   "metadata": {},
   "outputs": [
    {
     "name": "stdout",
     "output_type": "stream",
     "text": [
      "Jumlah suku dari 11 deret pertama adalah 209\n"
     ]
    }
   ],
   "source": [
    "from sympy import symbols\n",
    "\n",
    "a = 4\n",
    "n = 11\n",
    "b = 3\n",
    "\n",
    "Jumlah_suku = n*(2*a + (n-1)*b) // 2\n",
    "\n",
    "print('Jumlah suku dari 11 deret pertama adalah', (Jumlah_suku))"
   ]
  },
  {
   "cell_type": "markdown",
   "id": "695ef662",
   "metadata": {},
   "source": [
    "### 4. Tentukan jumlah deret 10 suku pertama dari deret 5, 10, 20, 40 "
   ]
  },
  {
   "cell_type": "code",
   "execution_count": null,
   "id": "c73faa54",
   "metadata": {},
   "outputs": [
    {
     "name": "stdout",
     "output_type": "stream",
     "text": [
      "Jumlah ke - 10 suku dari deret tersebut adalah 2556.5\n"
     ]
    }
   ],
   "source": [
    "from sympy import symbols\n",
    "a = 5\n",
    "r = 2\n",
    "n = 10\n",
    "\n",
    "jumlah_suku = a*(r**n - 1) / r - 1\n",
    "\n",
    "print('Jumlah ke - 10 suku dari deret tersebut adalah', (jumlah_suku))\n",
    "\n"
   ]
  }
 ],
 "metadata": {
  "kernelspec": {
   "display_name": "Python 3",
   "language": "python",
   "name": "python3"
  },
  "language_info": {
   "codemirror_mode": {
    "name": "ipython",
    "version": 3
   },
   "file_extension": ".py",
   "mimetype": "text/x-python",
   "name": "python",
   "nbconvert_exporter": "python",
   "pygments_lexer": "ipython3",
   "version": "3.13.2"
  }
 },
 "nbformat": 4,
 "nbformat_minor": 5
}
