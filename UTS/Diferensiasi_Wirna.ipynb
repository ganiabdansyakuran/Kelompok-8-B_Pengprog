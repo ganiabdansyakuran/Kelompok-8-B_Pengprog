{
  "nbformat": 4,
  "nbformat_minor": 0,
  "metadata": {
    "colab": {
      "provenance": []
    },
    "kernelspec": {
      "name": "python3",
      "display_name": "Python 3"
    },
    "language_info": {
      "name": "python"
    }
  },
  "cells": [
    {
      "cell_type": "markdown",
      "source": [
        "# Metode Diferensiasi"
      ],
      "metadata": {
        "id": "zkacSbdLRuk6"
      }
    },
    {
      "cell_type": "markdown",
      "source": [
        "Kalkulus adalah cabang matematika yang melibatkan atau mengarah pada perhitungan yang berhubungan dengan fungsi yang terus berubah, seperti kecepatan dan percepatan, laju perubahan, dan nilai maksimum dan minimum kurva. Kalkulus memiliki aplikasi yang luas dalam sains dan teknik dan digunakan untuk memecahkan masalah rumit yang tidak dapat diselesaikan hanya dengan aljabar."
      ],
      "metadata": {
        "id": "o6lpZCRxR5yu"
      }
    },
    {
      "cell_type": "markdown",
      "source": [
        "## diferensiasi fungsi umum"
      ],
      "metadata": {
        "id": "L-AOfyPiSvWL"
      }
    },
    {
      "cell_type": "markdown",
      "source": [
        "Dari diferensiasi berdasarkan prinsip-prinsip awal sejumlah contoh seperti pada Soal 1 di atas, muncul aturan umum untuk mendiferensiasikan _y = ax^n_ , di mana a dan n adalah konstanta."
      ],
      "metadata": {
        "id": "MsVdQ03HS3xM"
      }
    },
    {
      "cell_type": "markdown",
      "source": [
        "Jika $$y = ax^n$$ kemudian $$\\frac{dy}{dx} = anx= n^-1$$ (atau, jika $$f(x) = ax^n$$ maka $$f'(x) = anx^n-1)$$ dan berlaku untuk semua nilai riil a dan n"
      ],
      "metadata": {
        "id": "LGfBb3EhUp1y"
      }
    },
    {
      "cell_type": "markdown",
      "source": [
        "Misalnya, jika $$y = 4x^3$$ kemudian $$a = 4$$ dan $$n = 3$$ dan $$\\frac{dy}{dx} = anx^n-1 = (4)(3)x^3-1 = 12x^2$$ Jika $$y = ax^n$$ dan $$n = 0$$ kemudian $$y = ax^0$$ dan $$\\frac{dy}{dx} = (a)(0)x^0-1 = 0$$"
      ],
      "metadata": {
        "id": "rdeZ9mLXW3ui"
      }
    },
    {
      "cell_type": "markdown",
      "source": [
        "Contoh soal:"
      ],
      "metadata": {
        "id": "_QMZuEOFYX5K"
      }
    },
    {
      "cell_type": "markdown",
      "source": [
        "Temukan koefisien diferensial dari"
      ],
      "metadata": {
        "id": "ykx99mcSYccu"
      }
    },
    {
      "cell_type": "markdown",
      "source": [
        "(a) $$ y = 12x^3$$ (b) $$y= \\frac{12}{x^3}$$"
      ],
      "metadata": {
        "id": "073nI03vYvUn"
      }
    },
    {
      "cell_type": "markdown",
      "source": [
        "Penyelesaian:"
      ],
      "metadata": {
        "id": "i1JH96oNZFiR"
      }
    },
    {
      "cell_type": "markdown",
      "source": [
        "Jika $$y = ax^n$$ kemudian $$\\frac{dy}{dx} = anx^n-1$$"
      ],
      "metadata": {
        "id": "WRIMSkuSZSCn"
      }
    },
    {
      "cell_type": "markdown",
      "source": [
        "(a) Karena $$y = 12x^3$$ $$a = 12,$$ dan $$n = 3$$ maka $$\\frac{dy}{dx} = (12)(3)x^3-1 = 36x^2$$"
      ],
      "metadata": {
        "id": "f9L-9RGAZjRz"
      }
    },
    {
      "cell_type": "markdown",
      "source": [
        "(b) $$ y = \\frac{12}{x^3}$$ ditulis ulang dalam standar $$ax^n$$ bentuk sebagai $$ y = 12x^-3$$ dan pada aturan umum $$ a = 12$$ dan $$n = -3$$"
      ],
      "metadata": {
        "id": "Rc0BFAENaf5k"
      }
    },
    {
      "cell_type": "markdown",
      "source": [
        "Dengan demikian $$\\frac{dy}{dx} = (12)(-3)x^3-1 = -36x^-4 = -\\frac{36}{x^4}$$"
      ],
      "metadata": {
        "id": "FWB-6m2KbPpY"
      }
    },
    {
      "cell_type": "markdown",
      "source": [
        "Berikut ini penyelesainnya dengan python:"
      ],
      "metadata": {
        "id": "OobK9_tjbmlm"
      }
    },
    {
      "cell_type": "code",
      "source": [
        "# Aturan Pangkat: Jika y = a * x^n, maka dy/dx = a * n * x^(n - 1)\n",
        "\n",
        "# Fungsi untuk menghitung turunan menggunakan aturan pangkat\n",
        "def turunan_aturan_pangkat(a, n, nilai_x=None):\n",
        "    koefisien_baru = a * n\n",
        "    pangkat_baru = n - 1\n",
        "    print(f\"dy/dx = ({a})*({n})*x^{pangkat_baru} = {koefisien_baru}x^{pangkat_baru}\")\n",
        "\n",
        "    if nilai_x is not None:\n",
        "        nilai_turunan = koefisien_baru * (nilai_x ** pangkat_baru)\n",
        "        print(f\"Pada x = {nilai_x}, dy/dx = {nilai_turunan}\")\n",
        "        return nilai_turunan\n",
        "    return koefisien_baru, pangkat_baru\n",
        "\n",
        "# Bagian (a): y = 12x^3\n",
        "print(\"Bagian (a): y = 12x^3\")\n",
        "a = 12\n",
        "n = 3\n",
        "turunan_aturan_pangkat(a, n)\n",
        "\n",
        "# Bagian (b): y = 12 / x^3 = 12x^(-3)\n",
        "print(\"\\nBagian (b): y = 12 / x^3 = 12x^(-3)\")\n",
        "a = 12\n",
        "n = -3\n",
        "turunan_aturan_pangkat(a, n)\n"
      ],
      "metadata": {
        "colab": {
          "base_uri": "https://localhost:8080/"
        },
        "id": "bdlPXQvlbpNA",
        "outputId": "81a711a1-5ea4-40ba-c982-0c9be9beb535"
      },
      "execution_count": 18,
      "outputs": [
        {
          "output_type": "stream",
          "name": "stdout",
          "text": [
            "Bagian (a): y = 12x^3\n",
            "dy/dx = (12)*(3)*x^2 = 36x^2\n",
            "\n",
            "Bagian (b): y = 12 / x^3 = 12x^(-3)\n",
            "dy/dx = (12)*(-3)*x^-4 = -36x^-4\n"
          ]
        },
        {
          "output_type": "execute_result",
          "data": {
            "text/plain": [
              "(-36, -4)"
            ]
          },
          "metadata": {},
          "execution_count": 18
        }
      ]
    },
    {
      "cell_type": "code",
      "source": [],
      "metadata": {
        "id": "oybABfljcOEz"
      },
      "execution_count": null,
      "outputs": []
    }
  ]
}