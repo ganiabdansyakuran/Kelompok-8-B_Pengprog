{
 "cells": [
  {
   "cell_type": "markdown",
   "id": "fb5063bd",
   "metadata": {},
   "source": [
    "# 1.1 Vectors"
   ]
  },
  {
   "cell_type": "markdown",
   "id": "2586a126",
   "metadata": {},
   "source": [
    "## 1.1.1 Geometri dengan Vektor\n",
    "\n",
    "Vektor adalah objek geometri yang memiliki besaran (magnitude) dan arah (direction). Vektor digambarkan sebagai panah, di mana panjang panah merepresentasikan besaran vektor dan arah panah menunjukkan arah vektor.\n",
    "\n",
    "### Vektor dari titik A ke titik B dapat ditulis:\n",
    "\n",
    "$$ \\vec{AB} = \\vec{B} - \\vec{A} $$\n",
    "\n",
    "### Dalam koordinat kartesian 3D, vektor vec{a} = (a_x, a_y, a_z) memiliki panjang:\n",
    "\n",
    "$$ \\|\\vec{a}\\| = \\sqrt{a_x^2 + a_y^2 + a_z^2} $$\n",
    "\n",
    "### Dengan membagi vektor dengan panjangnya, kita memperoleh vektor satuan:\n",
    "\n",
    "$$ \\hat{a} = \\frac{\\vec{a}}{\\|\\vec{a}\\|} $$"
   ]
  },
  {
   "cell_type": "code",
   "execution_count": 1,
   "id": "e2eee22f",
   "metadata": {},
   "outputs": [
    {
     "name": "stdout",
     "output_type": "stream",
     "text": [
      "Vektor AB: [3 4]\n",
      "Panjang AB: 5.0\n"
     ]
    }
   ],
   "source": [
    "import numpy as np\n",
    "\n",
    "A = np.array([1, 2])\n",
    "B = np.array([4, 6])\n",
    "AB = B - A\n",
    "length = np.linalg.norm(AB)\n",
    "\n",
    "print(\"Vektor AB:\", AB)\n",
    "print(\"Panjang AB:\", length)"
   ]
  },
  {
   "cell_type": "markdown",
   "id": "e2057103",
   "metadata": {},
   "source": [
    "## 1.1.2 Dot Product (Hasil Kali Titik)\n",
    "\n",
    "Dot product dua vektor \\(\\vec{a}\\) dan \\(\\vec{b}\\) didefinisikan:\n",
    "\n",
    "$$ \\vec{a} \\cdot \\vec{b} = a_x b_x + a_y b_y + a_z b_z = \\|\\vec{a}\\| \\|\\vec{b}\\| \\cos \\theta $$\n",
    "\n",
    "Jika hasilnya nol, maka vektor tegak lurus.\n",
    "\n",
    "### Contoh Soal:\n",
    "\n",
    "Hitung hasil kali titik dan sudut antara \n",
    "$$ \\vec{a} = (3, 1)\\ dan\\ \\vec{b} = (-1, 2) $$"
   ]
  },
  {
   "cell_type": "code",
   "execution_count": 2,
   "id": "0987bdc7",
   "metadata": {},
   "outputs": [
    {
     "name": "stdout",
     "output_type": "stream",
     "text": [
      "a · b = -1\n",
      "Sudut antara a dan b = 98.13010235415598 derajat\n"
     ]
    }
   ],
   "source": [
    "a = np.array([3, 1])\n",
    "b = np.array([-1, 2])\n",
    "\n",
    "dot = np.dot(a, b)\n",
    "cos_theta = dot / (np.linalg.norm(a) * np.linalg.norm(b))\n",
    "theta = np.degrees(np.arccos(cos_theta))\n",
    "\n",
    "print(\"a · b =\", dot)\n",
    "print(\"Sudut antara a dan b =\", theta, \"derajat\")"
   ]
  },
  {
   "cell_type": "markdown",
   "id": "a4cde6f8",
   "metadata": {},
   "source": [
    "## 1.1.3 Cross Product (Hasil Kali Silang)\n",
    "\n",
    "Cross product dua vektor 3D:\n",
    "\n",
    "$$ \\vec{a} \\times \\vec{b} = (a_y b_z - a_z b_y, a_z b_x - a_x b_z, a_x b_y - a_y b_x) $$\n",
    "\n",
    "Hasilnya vektor tegak lurus terhadap $$ \\vec{a}\\ dan\\ \\vec{b}\\ $$, dan besarnya sama dengan luas jajar genjang yang dibentuk.\n",
    "\n",
    "### Contoh Soal:\n",
    "\n",
    "Hitung \n",
    "$$ \\vec{u} \\times \\vec{v}\\ untuk\\ \\vec{u} = (1, 2, 3)\\, \\vec{v} = (4, 5, 6)."
   ]
  },
  {
   "cell_type": "code",
   "execution_count": 3,
   "id": "bc76815e",
   "metadata": {},
   "outputs": [
    {
     "name": "stdout",
     "output_type": "stream",
     "text": [
      "u × v = [-3  6 -3]\n"
     ]
    }
   ],
   "source": [
    "u = np.array([1, 2, 3])\n",
    "v = np.array([4, 5, 6])\n",
    "cross = np.cross(u, v)\n",
    "\n",
    "print(\"u × v =\", cross)\n"
   ]
  },
  {
   "cell_type": "markdown",
   "id": "a4a5e133",
   "metadata": {},
   "source": [
    "## 1.1.4 Lines and Planes (Garis dan Bidang)\n",
    "\n",
    "### Garis dalam bentuk vektor:\n",
    "\n",
    "$$ \\vec{r}(t) = \\vec{r}_0 + t\\vec{v} $$\n",
    "\n",
    "dengan $$ \\vec{r}_0\\ $$ titik awal, dan $$ \\vec{v} $$ arah.\n",
    "\n",
    "### Bidang dengan titik \n",
    "$$ \\vec{p}_0\\ dan\\ normal\\ \\vec{n}\\:$$\n",
    "\n",
    "$$ \\vec{n} \\cdot (\\vec{r} - \\vec{p}_0) = 0 $$\n",
    "\n",
    "### Contoh Soal:\n",
    "\n",
    "Cari titik potong garis $$ \\vec{r}(t) = (1, 2, 3) + t(3, 0, 2) $$ dengan bidang yang melalui \\(2, 3, 4) dan normal \\(1, -1, -1)\\."
   ]
  },
  {
   "cell_type": "code",
   "execution_count": 4,
   "id": "98e9314e",
   "metadata": {},
   "outputs": [
    {
     "name": "stdout",
     "output_type": "stream",
     "text": [
      "Titik potong: Matrix([[4], [2], [5]])\n"
     ]
    }
   ],
   "source": [
    "import sympy as sp\n",
    "\n",
    "t = sp.symbols('t')\n",
    "p_line = sp.Matrix([1,2,3]) + t * sp.Matrix([3,0,2])\n",
    "normal = sp.Matrix([1,1,-1])\n",
    "point_plane = sp.Matrix([2,3,4])\n",
    "\n",
    "eq = normal.dot(p_line - point_plane)\n",
    "t_val = sp.solve(eq, t)[0]\n",
    "intersection = p_line.subs(t, t_val)\n",
    "\n",
    "print(\"Titik potong:\", intersection)\n"
   ]
  },
  {
   "cell_type": "markdown",
   "id": "0f181434",
   "metadata": {},
   "source": [
    "## 1.1.5 Vector Space (Ruang Vektor)\n",
    "\n",
    "Ruang vektor adalah himpunan vektor yang tertutup terhadap penjumlahan dan perkalian skalar. Vektor-vektor bebas linear yang membentuk ruang disebut basis, dan jumlahnya disebut dimensi.\n",
    "\n",
    "### Contoh Soal:\n",
    "\n",
    "Tentukan dimensi dan basis dari:\n",
    "\n",
    "$$ \\vec{v}_1 = (1, 1, 0), \\quad \\vec{v}_2 = (2, 2, 0), \\quad \\vec{v}_3 = (0, 1, 1) $$"
   ]
  },
  {
   "cell_type": "code",
   "execution_count": 5,
   "id": "ec7495eb",
   "metadata": {},
   "outputs": [
    {
     "name": "stdout",
     "output_type": "stream",
     "text": [
      "Dimensi ruang vektor: 2\n"
     ]
    }
   ],
   "source": [
    "v1 = np.array([1, 1, 0])\n",
    "v2 = np.array([2, 2, 0])\n",
    "v3 = np.array([0, 1, 1])\n",
    "\n",
    "M = np.column_stack((v1, v2, v3))\n",
    "rank = np.linalg.matrix_rank(M)\n",
    "\n",
    "print(\"Dimensi ruang vektor:\", rank)\n"
   ]
  },
  {
   "cell_type": "markdown",
   "id": "81d965d8",
   "metadata": {},
   "source": [
    "# Vektor"
   ]
  },
  {
   "cell_type": "markdown",
   "id": "2c75684f",
   "metadata": {},
   "source": [
    "## Geometri dengan Vektor\n",
    "Vektor adalah konsep penting dalam matematika dan fisika yang digunakan untuk menggambarkan besaran yang memiliki dua sifat utama, yaitu besar (magnitude) dan arah. Bayangkan Anda sedang membaca peta dan ingin menunjukkan perjalanan dari satu tempat ke tempat lain; vektor bisa digunakan untuk menjelaskan seberapa jauh jarak yang ditempuh dan ke arah mana Anda harus bergerak. Berbeda dengan skalar yang hanya menyatakan besar saja, seperti jarak 5 kilometer tanpa arah, vektor memberikan informasi lengkap, misalnya 5 kilometer ke arah utara. Dalam kehidupan sehari-hari, vektor sering muncul dalam berbagai aplikasi, seperti ketika seorang insinyur menghitung kekuatan angin yang mendorong sebuah bangunan atau seorang navigator menentukan arah kapal di lautan. Oleh karena itu, memahami vektor menjadi langkah awal yang krusial untuk mempelajari banyak topik dalam sains dan teknologi.\n",
    "\n",
    "Di dalam sistem koordinat tiga dimensi (3D), vektor biasanya direpresentasikan sebagai himpunan koordinat yang terdiri dari tiga komponen, yaitu \\(a_x\\), \\(a_y\\), dan \\(a_z\\). Komponen-komponen ini menunjukkan pergeseran atau pergerakan sepanjang sumbu x, y, dan z dari titik asal. Sebagai contoh, vektor $$\\mathbf{a} = [2, 3, 1]$$ bisa diartikan sebagai pergerakan sejauh 2 unit ke arah sumbu x, 3 unit ke arah sumbu y, dan 1 unit ke arah sumbu z. Visualisasinya bisa dibayangkan seperti panah yang bergerak dari titik (0, 0, 0) menuju titik (2, 3, 1) dalam ruang tiga dimensi. Representasi ini memungkinkan kita untuk bekerja dengan vektor secara matematis dan menggunakannya dalam perhitungan yang lebih kompleks, seperti penjumlahan atau pengurangan vektor, yang akan dibahas lebih lanjut.\n",
    "\n",
    "### Operasi Dasar Vektor\n",
    "\n",
    "Salah satu operasi dasar pada vektor adalah penjumlahan, yang memiliki cara unik untuk dilakukan. Penjumlahan vektor dapat divisualisasikan dengan metode paralelogram, sebuah teknik geometris yang cukup menarik. Bayangkan Anda memiliki dua panah, yang masing-masing mewakili vektor $$\\mathbf{u}\\ dan\\ \\mathbf{v}$$ dan keduanya berangkat dari titik yang sama. Jika Anda menggambar garis paralel dari ujung kedua panah tersebut dan membentuk sebuah paralelogram, maka diagonal yang terbentuk dari titik asal menuju titik pertemuan garis-garis tersebut akan menjadi hasil penjumlahan kedua vektor, yaitu $$\\mathbf{u} + \\mathbf{v}$$ Metode ini tidak hanya memberikan gambaran visual yang jelas, tetapi juga memiliki dasar matematis yang kuat. Secara matematis, jika $$\\mathbf{u} = [u_x, u_y, u_z]\\ dan\\ \\mathbf{v} = [v_x, v_y, v_z]$$ maka penjumlahan dilakukan dengan menambahkan masing-masing komponen, sehingga $$\\mathbf{u} + \\mathbf{v} = [u_x + v_x, u_y + v_y, u_z + v_z]$$ Contohnya, jika $$\\mathbf{u} = [1, 2, 0]\\ dan\\ \\mathbf{v} = [0, 1, 3],\\ maka\\ \\mathbf{u} + \\mathbf{v} = [1 + 0, 2 + 1, 0 + 3] = [1, 3, 3]$$\n",
    "\n",
    "Selain penjumlahan, konsep vektor satuan juga sangat penting dalam memahami vektor. Vektor satuan adalah vektor yang memiliki panjang atau besar sebesar 1 unit, dan biasanya digunakan sebagai acuan arah. Dalam ruang 3D, terdapat tiga vektor satuan utama yang sesuai dengan sumbu koordinat: \\(\\mathbf{i} = [1, 0, 0]\\) untuk sumbu x, \\(\\mathbf{j} = [0, 1, 0]\\) untuk sumbu y, dan \\(\\mathbf{k} = [0, 0, 1]\\) untuk sumbu z. Vektor apa pun bisa diuraikan menjadi kombinasi dari vektor satuan ini. Misalnya, vektor \\(\\mathbf{a} = [2, 3, 1]\\) bisa ditulis sebagai \\(\\mathbf{a} = 2\\mathbf{i} + 3\\mathbf{j} + 1\\mathbf{k}\\). Pendekatan ini memudahkan kita untuk memecah vektor menjadi komponen-komponen yang lebih sederhana dan memahami kontribusi setiap arah dalam pergerakan keseluruhan.\n",
    "\n",
    "## Ilustrasi dari Gambar\n",
    "\n",
    "Gambar yang diberikan dalam materi ini memberikan ilustrasi yang sangat membantu untuk memahami konsep vektor. Pada **Gambar 1.1(a)**, kita bisa melihat dua vektor, \\(\\mathbf{u}\\) dan \\(\\mathbf{v}\\), yang digambarkan sebagai panah dalam koordinat dua dimensi. Panah-panjang ini menunjukkan besar vektor, sementara arahnya menunjukkan ke manakah vektor tersebut bergerak dari titik asal. Visualisasi ini penting karena membantu kita membayangkan bagaimana vektor bekerja dalam ruang. Kemudian, pada **Gambar 1.1(b)**, kita bisa melihat proses penjumlahan vektor \\(\\mathbf{u}\\) dan \\(\\mathbf{v}\\) menggunakan metode paralelogram. Diagonal panah yang terbentuk menunjukkan vektor hasil, \\(\\mathbf{u} + \\mathbf{v}\\), yang menggabungkan arah dan besar dari kedua vektor awal. Ilustrasi ini tidak hanya memperkuat pemahaman konseptual, tetapi juga memberikan gambaran praktis tentang bagaimana vektor bisa digabungkan dalam situasi nyata.\n",
    "\n",
    "## Contoh Aplikasi\n",
    "\n",
    "Konsep vektor memiliki banyak aplikasi dalam kehidupan sehari-hari dan ilmu pengetahuan. Misalnya, dalam fisika, vektor digunakan untuk menggambarkan gaya, yang mencakup besar dan arah dorongan pada suatu benda. Bayangkan seorang anak mendorong troli; vektor gaya akan menunjukkan seberapa keras dorongan itu dan ke arah mana troli bergerak. Selain itu, vektor juga digunakan untuk kecepatan, yang menunjukkan seberapa cepat sebuah objek bergerak beserta arahnya, seperti kecepatan angin yang bertiup ke timur. Percepatan, yang merupakan perubahan kecepatan dan arah, juga merupakan vektor, seperti ketika sebuah mobil berbelok di tikungan. Dengan memahami vektor, kita bisa menghitung hasil gabungan gerakan atau gaya dalam berbagai skenario, mulai dari desain jembatan oleh insinyur hingga navigasi pesawat oleh pilot. Oleh karena itu, mempelajari vektor membuka pintu menuju pemahaman yang lebih dalam tentang dunia di sekitar kita, terutama pada tanggal hari ini, Sabtu, 21 Juni 2025, pukul 08:38 PM WITA, ketika teknologi dan sains terus berkembang mengandalkan konsep ini."
   ]
  },
  {
   "cell_type": "markdown",
   "id": "6c822eee",
   "metadata": {},
   "source": [
    "## Persamaan Vektor\n",
    "\n",
    "Persamaan vektor dalam bentuk matriks:\n",
    "\n",
    "$$\n",
    "\\mathbf{a} = [a_x, a_y, a_z]^T = \\begin{bmatrix} a_x \\\\ a_y \\\\ a_z \\end{bmatrix} = a_x \\mathbf{u}_x + a_y \\mathbf{u}_y + a_z \\mathbf{u}_z\n",
    "$$\n",
    "\n",
    "di mana $\\mathbf{u}_x$, $\\mathbf{u}_y$, dan $\\mathbf{u}_z$ adalah vektor satuan sepanjang sumbu $+x$, $+y$, dan $+z$ masing-masing:\n",
    "\n",
    "$$\n",
    "\\mathbf{u}_x = \\begin{bmatrix} 1 \\\\ 0 \\\\ 0 \\end{bmatrix}, \\quad \\mathbf{u}_y = \\begin{bmatrix} 0 \\\\ 1 \\\\ 0 \\end{bmatrix}, \\quad \\mathbf{u}_z = \\begin{bmatrix} 0 \\\\ 0 \\\\ 1 \\end{bmatrix}\n",
    "$$"
   ]
  },
  {
   "cell_type": "markdown",
   "id": "1c29a32f",
   "metadata": {},
   "source": [
    "Perkalian titik (disebut juga perkalian skalar atau inner product) adalah operasi fundamental antara dua vektor yang menghasilkan nilai skalar. Untuk dua vektor 3D $$\\mathbf{a} = [a_x, a_y, a_z]^T\\ dan\\ \\mathbf{b} = [b_x, b_y, b_z]^T$$ \n",
    "perkalian titik memiliki tiga definisi setara yang saling melengkapi:\n",
    "\n",
    "**Definisi Geometris**  \n",
    "Secara geometris, perkalian titik didefinisikan sebagai:  \n",
    "$$\\mathbf{a} \\cdot \\mathbf{b} = \\| \\mathbf{a} \\| \\| \\mathbf{b} \\| \\cos \\theta_{ab} \\tag{1.1.3}$$  \n",
    "di mana:\n",
    "- $$\\| \\mathbf{a} \\| = panjang\\ vektor\\ \\mathbf{a} (dihitung\\ dengan\\ \\sqrt{a_x^2 + a_y^2 + a_z^2})$$\n",
    "- $$\\| \\mathbf{b} \\| = panjang\\ vektor\\ \\mathbf{b}$$\n",
    "- $$\\theta_{ab} = sudut\\ antara\\ kedua\\ vektor\\ ketika\\ ekornya\\ disatukan$$\n",
    "\n",
    "**Definisi Aljabar**  \n",
    "Secara aljabar, perkalian titik adalah penjumlahan hasil kali komponen-komponen yang searah:  \n",
    "$$\\mathbf{a} \\cdot \\mathbf{b} = a_x b_x + a_y b_y + a_z b_z \\tag{1.1.3}$$\n",
    "\n",
    "**Definisi Matriks**  \n",
    "Dalam bentuk matriks, perkalian titik adalah hasil kali matriks antara transpose vektor pertama dengan vektor kedua:  \n",
    "$$\\mathbf{a} \\cdot \\mathbf{b} = \\mathbf{a}^T \\mathbf{b} \\tag{1.1.3}$$\n",
    "\n",
    "---\n",
    "\n",
    "### Pembuktian Kesetaraan Definisi Geometris dan Aljabar\n",
    "\n",
    "Hubungan antara definisi geometris dan aljabar dapat dipahami melalui sifat-sifat vektor satuan \\(\\mathbf{u}_x, \\mathbf{u}_y, \\mathbf{u}_z\\):\n",
    "\n",
    "#### Langkah 1: Sifat Vektor Satuan\n",
    "Vektor satuan memiliki panjang 1 dan saling tegak lurus:\n",
    "$$\\mathbf{u}_x \\cdot \\mathbf{u}_x = \\| \\mathbf{u}_x \\| \\| \\mathbf{u}_x \\| \\cos 0^\\circ = 1 \\times 1 \\times 1 = 1$$\n",
    "$$\\mathbf{u}_x \\cdot \\mathbf{u}_y = \\| \\mathbf{u}_x \\| \\| \\mathbf{u}_y \\| \\cos 90^\\circ = 1 \\times 1 \\times 0 = 0$$\n",
    "\n",
    "Secara umum:\n",
    "- Perkalian titik vektor satuan dengan dirinya sendiri = 1\n",
    "- Perkalian titik vektor satuan berbeda = 0\n",
    "\n",
    "#### Langkah 2: Distribusi Perkalian Titik\n",
    "Dengan hukum distributif, kita uraikan perkalian:\n",
    "$$\\mathbf{a} \\cdot \\mathbf{b} = (a_x \\mathbf{u}_x + a_y \\mathbf{u}_y + a_z \\mathbf{u}_z) \\cdot (b_x \\mathbf{u}_x + b_y \\mathbf{u}_y + b_z \\mathbf{u}_z)$$\n",
    "\n",
    "#### Langkah 3: Ekspansi Suku per Suku\n",
    "$$\\begin{aligned}\n",
    "= & a_x b_x (\\mathbf{u}_x \\cdot \\mathbf{u}_x) + a_x b_y (\\mathbf{u}_x \\cdot \\mathbf{u}_y) + a_x b_z (\\mathbf{u}_x \\cdot \\mathbf{u}_z) \\\\\n",
    "+ & a_y b_x (\\mathbf{u}_y \\cdot \\mathbf{u}_x) + a_y b_y (\\mathbf{u}_y \\cdot \\mathbf{u}_y) + a_y b_z (\\mathbf{u}_y \\cdot \\mathbf{u}_z) \\\\\n",
    "+ & a_z b_x (\\mathbf{u}_z \\cdot \\mathbf{u}_x) + a_z b_y (\\mathbf{u}_z \\cdot \\mathbf{u}_y) + a_z b_z (\\mathbf{u}_z \\cdot \\mathbf{u}_z)\n",
    "\\end{aligned}$$\n",
    "\n",
    "#### Langkah 4: Penyederhanaan\n",
    "Karena $$\\mathbf{u}_x \\cdot \\mathbf{u}_y = 0\\, \\mathbf{u}_y \\cdot \\mathbf{u}_z = 0\\, dst.$$ semua suku campuran bernilai nol:\n",
    "$$\\mathbf{a} \\cdot \\mathbf{b} = a_x b_x (1) + a_y b_y (1) + a_z b_z (1) = a_x b_x + a_y b_y + a_z b_z$$\n",
    "\n",
    "---\n",
    "\n",
    "### Contoh Numerik dengan Visualisasi\n",
    "\n",
    "Misalkan dua vektor 2D:\n",
    "- $$\\mathbf{a} = [3, 2]^T\\ (panah\\ biru)$$\n",
    "- $$\\mathbf{b} = [4, 1]^T\\ (panah\\ merah)$$\n",
    "\n",
    "#### Perhitungan Aljabar:\n",
    "$$\\mathbf{a} \\cdot \\mathbf{b} = 3 \\times 4 + 2 \\times 1 = 12 + 2 = 14$$\n",
    "\n",
    "#### Perhitungan Geometris:\n",
    "- $$\\| \\mathbf{a} \\| = \\sqrt{3^2 + 2^2} = \\sqrt{13} \\approx 3.61$$\n",
    "- $$\\| \\mathbf{b} \\| = \\sqrt{4^2 + 1^2} = \\sqrt{17} \\approx 4.12$$\n",
    "- $$Sudut\\ \\theta\\ antara\\ vektor:\\ gunakan\\ rumus\\ \\cos \\theta = \\frac{\\mathbf{a} \\cdot \\mathbf{b}}{\\|\\mathbf{a}\\| \\|\\mathbf{b}\\|} = \\frac{14}{3.61 \\times 4.12} \\approx 0.94\\ → \\theta \\approx 20^ \\circ$$\n",
    "\n",
    "**Visualisasi**:  \n",
    "Bayangkan proyeksi vektor $$\\mathbf{a}\\ pada\\ arah\\ \\mathbf{b}$$ Panjang proyeksi adalah $$\\| \\mathbf{a} \\| \\cos \\theta \\approx 3.61 \\times 0.94 \\approx 3.39$$ Nilai dot product = panjang proyeksi × panjang $$\\mathbf{b} = (3.39 \\times 4.12 \\approx 14)$$\n",
    "\n",
    "---\n",
    "\n",
    "### Aplikasi Penting Perkalian Titik\n",
    "\n",
    "#### 1. Menghitung Panjang Vektor (Norma Euclidean)\n",
    "Panjang vektor a merupakan akar dari perkalian titik dengan dirinya sendiri:\n",
    "$$\\| \\mathbf{a} \\| = \\sqrt{\\mathbf{a} \\cdot \\mathbf{a}} = \\sqrt{a_x^2 + a_y^2 + a_z^2} \\tag{1.1.5}$$\n",
    "\n",
    "**Contoh**: $$\\mathbf{c} = [1, 2, 2]^T$$  \n",
    "$$\\mathbf{c} \\cdot \\mathbf{c} = 1^2 + 2^2 + 2^2 = 9\\ → \\| \\mathbf{c} \\| = \\sqrt{9} = 3\\$$\n",
    "\n",
    "#### 2. Mendeteksi Tegak Lurus (Ortogonalitas)\n",
    "Dua vektor tegak lurus jika perkalian titiknya nol:\n",
    "$$\\mathbf{a} \\perp \\mathbf{b} \\iff \\mathbf{a} \\cdot \\mathbf{b} = 0 \\tag{1.1.6}$$\n",
    "\n",
    "**Mengapa?** $$ Karena\\ \\cos 90^\\circ = 0$$\n",
    "\n",
    "**Contoh**: \n",
    "- $$\\mathbf{d} = [2, -1, 3]^T$$\n",
    "- $$\\mathbf{e} = [1, 5, 1]^T$$\n",
    "- $$\\mathbf{d} \\cdot \\mathbf{e} = 2(1) + (-1)(5) + 3(1) = 2 - 5 + 3 = 0\\ → tegak\\ lurus$$\n",
    "\n",
    "#### 3. Menghitung Sudut Antara Vektor\n",
    "Rumus sudut diperoleh dari definisi geometris:\n",
    "$$\\cos \\theta_{ab} = \\frac{\\mathbf{a} \\cdot \\mathbf{b}}{\\| \\mathbf{a} \\| \\| \\mathbf{b} \\|}$$\n",
    "\n",
    "**Aplikasi**: Dalam grafik komputer untuk menentukan intensitas cahaya pada permukaan.\n",
    "\n",
    "---\n",
    "\n",
    "### Representasi Matriks (Persamaan 1.1.4a)\n",
    "\n",
    "Hubungan ortogonalitas vektor satuan dapat ditulis sebagai matriks identitas:\n",
    "$$\\begin{bmatrix}\n",
    "\\mathbf{u}_x^T \\mathbf{u}_x & \\mathbf{u}_x^T \\mathbf{u}_y & \\mathbf{u}_x^T \\mathbf{u}_z \\\\\n",
    "\\mathbf{u}_y^T \\mathbf{u}_x & \\mathbf{u}_y^T \\mathbf{u}_y & \\mathbf{u}_y^T \\mathbf{u}_z \\\\\n",
    "\\mathbf{u}_z^T \\mathbf{u}_x & \\mathbf{u}_z^T \\mathbf{u}_y & \\mathbf{u}_z^T \\mathbf{u}_z\n",
    "\\end{bmatrix} = \\begin{bmatrix}\n",
    "1 & 0 & 0 \\\\\n",
    "0 & 1 & 0 \\\\\n",
    "0 & 0 & 1\n",
    "\\end{bmatrix}$$\n",
    "\n",
    "Ini menunjukkan bahwa:\n",
    "- Suku diagonal = 1 (perkalian vektor satuan dengan diri sendiri)\n",
    "- Suku off-diagonal = 0 (karena tegak lurus)"
   ]
  }
 ],
 "metadata": {
  "kernelspec": {
   "display_name": "Python 3",
   "language": "python",
   "name": "python3"
  },
  "language_info": {
   "codemirror_mode": {
    "name": "ipython",
    "version": 3
   },
   "file_extension": ".py",
   "mimetype": "text/x-python",
   "name": "python",
   "nbconvert_exporter": "python",
   "pygments_lexer": "ipython3",
   "version": "3.13.2"
  }
 },
 "nbformat": 4,
 "nbformat_minor": 5
}
