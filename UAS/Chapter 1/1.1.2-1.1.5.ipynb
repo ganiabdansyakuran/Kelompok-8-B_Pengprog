{
 "cells": [
  {
   "cell_type": "markdown",
   "id": "fb5063bd",
   "metadata": {},
   "source": [
    "# 1.1 Vectors"
   ]
  },
  {
   "cell_type": "markdown",
   "id": "2586a126",
   "metadata": {},
   "source": [
    "## 1.1.1 Geometri dengan Vektor\n",
    "\n",
    "Vektor adalah objek geometri yang memiliki besaran (magnitude) dan arah (direction). Vektor digambarkan sebagai panah, di mana panjang panah merepresentasikan besaran vektor dan arah panah menunjukkan arah vektor.\n",
    "\n",
    "### Vektor dari titik A ke titik B dapat ditulis:\n",
    "\n",
    "$$ \\vec{AB} = \\vec{B} - \\vec{A} $$\n",
    "\n",
    "### Dalam koordinat kartesian 3D, vektor vec{a} = (a_x, a_y, a_z) memiliki panjang:\n",
    "\n",
    "$$ \\|\\vec{a}\\| = \\sqrt{a_x^2 + a_y^2 + a_z^2} $$\n",
    "\n",
    "### Dengan membagi vektor dengan panjangnya, kita memperoleh vektor satuan:\n",
    "\n",
    "$$ \\hat{a} = \\frac{\\vec{a}}{\\|\\vec{a}\\|} $$"
   ]
  },
  {
   "cell_type": "code",
   "execution_count": 1,
   "id": "e2eee22f",
   "metadata": {},
   "outputs": [
    {
     "name": "stdout",
     "output_type": "stream",
     "text": [
      "Vektor AB: [3 4]\n",
      "Panjang AB: 5.0\n"
     ]
    }
   ],
   "source": [
    "import numpy as np\n",
    "\n",
    "A = np.array([1, 2])\n",
    "B = np.array([4, 6])\n",
    "AB = B - A\n",
    "length = np.linalg.norm(AB)\n",
    "\n",
    "print(\"Vektor AB:\", AB)\n",
    "print(\"Panjang AB:\", length)"
   ]
  },
  {
   "cell_type": "markdown",
   "id": "e2057103",
   "metadata": {},
   "source": [
    "## 1.1.2 Dot Product (Hasil Kali Titik)\n",
    "\n",
    "Dot product dua vektor \\(\\vec{a}\\) dan \\(\\vec{b}\\) didefinisikan:\n",
    "\n",
    "$$ \\vec{a} \\cdot \\vec{b} = a_x b_x + a_y b_y + a_z b_z = \\|\\vec{a}\\| \\|\\vec{b}\\| \\cos \\theta $$\n",
    "\n",
    "Jika hasilnya nol, maka vektor tegak lurus.\n",
    "\n",
    "### Contoh Soal:\n",
    "\n",
    "Hitung hasil kali titik dan sudut antara \n",
    "$$ \\vec{a} = (3, 1)\\ dan\\ \\vec{b} = (-1, 2) $$"
   ]
  },
  {
   "cell_type": "code",
   "execution_count": 2,
   "id": "0987bdc7",
   "metadata": {},
   "outputs": [
    {
     "name": "stdout",
     "output_type": "stream",
     "text": [
      "a · b = -1\n",
      "Sudut antara a dan b = 98.13010235415598 derajat\n"
     ]
    }
   ],
   "source": [
    "a = np.array([3, 1])\n",
    "b = np.array([-1, 2])\n",
    "\n",
    "dot = np.dot(a, b)\n",
    "cos_theta = dot / (np.linalg.norm(a) * np.linalg.norm(b))\n",
    "theta = np.degrees(np.arccos(cos_theta))\n",
    "\n",
    "print(\"a · b =\", dot)\n",
    "print(\"Sudut antara a dan b =\", theta, \"derajat\")"
   ]
  },
  {
   "cell_type": "markdown",
   "id": "a4cde6f8",
   "metadata": {},
   "source": [
    "## 1.1.3 Cross Product (Hasil Kali Silang)\n",
    "\n",
    "Cross product dua vektor 3D:\n",
    "\n",
    "$$ \\vec{a} \\times \\vec{b} = (a_y b_z - a_z b_y, a_z b_x - a_x b_z, a_x b_y - a_y b_x) $$\n",
    "\n",
    "Hasilnya vektor tegak lurus terhadap $$ \\vec{a}\\ dan\\ \\vec{b}\\ $$, dan besarnya sama dengan luas jajar genjang yang dibentuk.\n",
    "\n",
    "### Contoh Soal:\n",
    "\n",
    "Hitung \n",
    "$$ \\vec{u} \\times \\vec{v}\\ untuk\\ \\vec{u} = (1, 2, 3)\\, \\vec{v} = (4, 5, 6)."
   ]
  },
  {
   "cell_type": "code",
   "execution_count": 3,
   "id": "bc76815e",
   "metadata": {},
   "outputs": [
    {
     "name": "stdout",
     "output_type": "stream",
     "text": [
      "u × v = [-3  6 -3]\n"
     ]
    }
   ],
   "source": [
    "u = np.array([1, 2, 3])\n",
    "v = np.array([4, 5, 6])\n",
    "cross = np.cross(u, v)\n",
    "\n",
    "print(\"u × v =\", cross)\n"
   ]
  },
  {
   "cell_type": "markdown",
   "id": "a4a5e133",
   "metadata": {},
   "source": [
    "## 1.1.4 Lines and Planes (Garis dan Bidang)\n",
    "\n",
    "### Garis dalam bentuk vektor:\n",
    "\n",
    "$$ \\vec{r}(t) = \\vec{r}_0 + t\\vec{v} $$\n",
    "\n",
    "dengan $$ \\vec{r}_0\\ $$ titik awal, dan $$ \\vec{v} $$ arah.\n",
    "\n",
    "### Bidang dengan titik \n",
    "$$ \\vec{p}_0\\ dan\\ normal\\ \\vec{n}\\:$$\n",
    "\n",
    "$$ \\vec{n} \\cdot (\\vec{r} - \\vec{p}_0) = 0 $$\n",
    "\n",
    "### Contoh Soal:\n",
    "\n",
    "Cari titik potong garis $$ \\vec{r}(t) = (1, 2, 3) + t(3, 0, 2) $$ dengan bidang yang melalui \\(2, 3, 4) dan normal \\(1, -1, -1)\\."
   ]
  },
  {
   "cell_type": "code",
   "execution_count": 4,
   "id": "98e9314e",
   "metadata": {},
   "outputs": [
    {
     "name": "stdout",
     "output_type": "stream",
     "text": [
      "Titik potong: Matrix([[4], [2], [5]])\n"
     ]
    }
   ],
   "source": [
    "import sympy as sp\n",
    "\n",
    "t = sp.symbols('t')\n",
    "p_line = sp.Matrix([1,2,3]) + t * sp.Matrix([3,0,2])\n",
    "normal = sp.Matrix([1,1,-1])\n",
    "point_plane = sp.Matrix([2,3,4])\n",
    "\n",
    "eq = normal.dot(p_line - point_plane)\n",
    "t_val = sp.solve(eq, t)[0]\n",
    "intersection = p_line.subs(t, t_val)\n",
    "\n",
    "print(\"Titik potong:\", intersection)\n"
   ]
  },
  {
   "cell_type": "markdown",
   "id": "0f181434",
   "metadata": {},
   "source": [
    "## 1.1.5 Vector Space (Ruang Vektor)\n",
    "\n",
    "Ruang vektor adalah himpunan vektor yang tertutup terhadap penjumlahan dan perkalian skalar. Vektor-vektor bebas linear yang membentuk ruang disebut basis, dan jumlahnya disebut dimensi.\n",
    "\n",
    "### Contoh Soal:\n",
    "\n",
    "Tentukan dimensi dan basis dari:\n",
    "\n",
    "$$ \\vec{v}_1 = (1, 1, 0), \\quad \\vec{v}_2 = (2, 2, 0), \\quad \\vec{v}_3 = (0, 1, 1) $$"
   ]
  },
  {
   "cell_type": "code",
   "execution_count": 5,
   "id": "ec7495eb",
   "metadata": {},
   "outputs": [
    {
     "name": "stdout",
     "output_type": "stream",
     "text": [
      "Dimensi ruang vektor: 2\n"
     ]
    }
   ],
   "source": [
    "v1 = np.array([1, 1, 0])\n",
    "v2 = np.array([2, 2, 0])\n",
    "v3 = np.array([0, 1, 1])\n",
    "\n",
    "M = np.column_stack((v1, v2, v3))\n",
    "rank = np.linalg.matrix_rank(M)\n",
    "\n",
    "print(\"Dimensi ruang vektor:\", rank)\n"
   ]
  }
 ],
 "metadata": {
  "kernelspec": {
   "display_name": "Python 3",
   "language": "python",
   "name": "python3"
  },
  "language_info": {
   "codemirror_mode": {
    "name": "ipython",
    "version": 3
   },
   "file_extension": ".py",
   "mimetype": "text/x-python",
   "name": "python",
   "nbconvert_exporter": "python",
   "pygments_lexer": "ipython3",
   "version": "3.13.2"
  }
 },
 "nbformat": 4,
 "nbformat_minor": 5
}
